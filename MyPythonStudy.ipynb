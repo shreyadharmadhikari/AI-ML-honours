{
  "nbformat": 4,
  "nbformat_minor": 0,
  "metadata": {
    "colab": {
      "name": "MyPythonStudy.ipynb",
      "provenance": [],
      "collapsed_sections": [],
      "authorship_tag": "ABX9TyMOqGjVTsSlA9wVI9I0+KWd",
      "include_colab_link": true
    },
    "kernelspec": {
      "name": "python3",
      "display_name": "Python 3"
    },
    "language_info": {
      "name": "python"
    }
  },
  "cells": [
    {
      "cell_type": "markdown",
      "metadata": {
        "id": "view-in-github",
        "colab_type": "text"
      },
      "source": [
        "<a href=\"https://colab.research.google.com/github/shreyadharmadhikari/AI-ML-honours/blob/main/MyPythonStudy.ipynb\" target=\"_parent\"><img src=\"https://colab.research.google.com/assets/colab-badge.svg\" alt=\"Open In Colab\"/></a>"
      ]
    },
    {
      "cell_type": "code",
      "metadata": {
        "colab": {
          "base_uri": "https://localhost:8080/"
        },
        "id": "4ro7teFHHro_",
        "outputId": "876129a8-8565-48d4-c5d3-31dd884938c3"
      },
      "source": [
        "def fun():\n",
        "  print(\"Hello World using function\")\n",
        "\n",
        "fun()"
      ],
      "execution_count": 2,
      "outputs": [
        {
          "output_type": "stream",
          "text": [
            "Hello World using function\n"
          ],
          "name": "stdout"
        }
      ]
    },
    {
      "cell_type": "code",
      "metadata": {
        "colab": {
          "base_uri": "https://localhost:8080/"
        },
        "id": "f7DNV9NYH72_",
        "outputId": "5810e7c2-d932-4139-daa4-35ab33767e7f"
      },
      "source": [
        "def factorial(n):\n",
        "  if n==1:\n",
        "    return 1\n",
        "  else: \n",
        "    return (n*factorial(n-1))\n",
        "\n",
        "result=factorial(5)\n",
        "print(\"Factorial=\",result)"
      ],
      "execution_count": 12,
      "outputs": [
        {
          "output_type": "stream",
          "text": [
            "Factorial= 120\n"
          ],
          "name": "stdout"
        }
      ]
    },
    {
      "cell_type": "code",
      "metadata": {
        "colab": {
          "base_uri": "https://localhost:8080/"
        },
        "id": "MmOvKiW0INhh",
        "outputId": "22910c53-52b8-4344-e2f4-362fbc8d14a8"
      },
      "source": [
        "def addition(a,b):\n",
        "    return (a+b)\n",
        "\n",
        "print(\"Addition is: \", addition(30,77))"
      ],
      "execution_count": 14,
      "outputs": [
        {
          "output_type": "stream",
          "text": [
            "Addition is:  107\n"
          ],
          "name": "stdout"
        }
      ]
    },
    {
      "cell_type": "code",
      "metadata": {
        "colab": {
          "base_uri": "https://localhost:8080/"
        },
        "id": "yilXCVK1MOkf",
        "outputId": "d10d91c1-a3b6-4e32-93e1-f234f631875b"
      },
      "source": [
        "def findsquare(p):\n",
        "  return p**2\n",
        "\n",
        "print(\"Enter one number: \")\n",
        "n=int(input())\n",
        "findsquare(n)"
      ],
      "execution_count": 15,
      "outputs": [
        {
          "output_type": "stream",
          "text": [
            "Enter one number: \n",
            "6\n"
          ],
          "name": "stdout"
        },
        {
          "output_type": "execute_result",
          "data": {
            "text/plain": [
              "36"
            ]
          },
          "metadata": {
            "tags": []
          },
          "execution_count": 15
        }
      ]
    },
    {
      "cell_type": "code",
      "metadata": {
        "colab": {
          "base_uri": "https://localhost:8080/"
        },
        "id": "2IGxzvMlMlx2",
        "outputId": "ad1e8181-03f1-4e85-84be-8d9ed98c35dd"
      },
      "source": [
        "def findpower(a,pow):\n",
        "  return a**pow\n",
        "\n",
        "print(\"Enter a number and its power you want to find:\");\n",
        "a=int(input())\n",
        "pow=int(input())\n",
        "print(\"Answer of \",a,\"to the power\",pow,\"is\",findpower(a,pow))"
      ],
      "execution_count": 20,
      "outputs": [
        {
          "output_type": "stream",
          "text": [
            "Enter a number and its power you want to find:\n",
            "3\n",
            "3\n",
            "Answer of  3 to the power 3 is 27\n"
          ],
          "name": "stdout"
        }
      ]
    },
    {
      "cell_type": "code",
      "metadata": {
        "colab": {
          "base_uri": "https://localhost:8080/"
        },
        "id": "EhTjwEFiOnjc",
        "outputId": "938d6e8a-192d-4a6c-ccb3-ddef4334454c"
      },
      "source": [
        "def country(cnt):\n",
        "  print(\"I am from \"+cnt)\n",
        "\n",
        "country(\"India\")\n",
        "country(\"Japan\")\n",
        "country(\"England\")\n",
        "country(\"USA\")\n",
        "country(\"Australia\")"
      ],
      "execution_count": 21,
      "outputs": [
        {
          "output_type": "stream",
          "text": [
            "I am from India\n",
            "I am from Japan\n",
            "I am from England\n",
            "I am from USA\n",
            "I am from Australia\n"
          ],
          "name": "stdout"
        }
      ]
    },
    {
      "cell_type": "code",
      "metadata": {
        "colab": {
          "base_uri": "https://localhost:8080/"
        },
        "id": "l3pMJIvJPQn1",
        "outputId": "de444020-1ab6-4112-efdd-03effb123efb"
      },
      "source": [
        "def calc(a,b,op):\n",
        "    if op==1:\n",
        "     return (a+b)\n",
        "    elif op==2:\n",
        "     return (a-b)\n",
        "    elif op==3:\n",
        "     return (a*b)\n",
        "    elif op==4:\n",
        "     return (a/b)\n",
        "\n",
        "print(\"Enter Your Choice\")\n",
        "print(\"For add-1, subtract-2, multiply-3, division-4\")\n",
        "oper=int(input())\n",
        "calc(20,50,oper)"
      ],
      "execution_count": 23,
      "outputs": [
        {
          "output_type": "stream",
          "text": [
            "Enter Your Choice\n",
            "For add-1, subtract-2, multiply-3, division-4\n",
            "3\n"
          ],
          "name": "stdout"
        },
        {
          "output_type": "execute_result",
          "data": {
            "text/plain": [
              "1000"
            ]
          },
          "metadata": {
            "tags": []
          },
          "execution_count": 23
        }
      ]
    },
    {
      "cell_type": "code",
      "metadata": {
        "colab": {
          "base_uri": "https://localhost:8080/"
        },
        "id": "XKmrPWPUP_z8",
        "outputId": "5d7e04e3-5e02-49bd-a0ee-f79006266419"
      },
      "source": [
        "x=lambda a:a+20\n",
        "\n",
        "print(x(6))\n"
      ],
      "execution_count": 25,
      "outputs": [
        {
          "output_type": "stream",
          "text": [
            "26\n"
          ],
          "name": "stdout"
        }
      ]
    },
    {
      "cell_type": "code",
      "metadata": {
        "colab": {
          "base_uri": "https://localhost:8080/"
        },
        "id": "q3X7z-L1Q9g4",
        "outputId": "53643199-6264-474d-c256-a0e9425ac01b"
      },
      "source": [
        "a=lambda x:x**3\n",
        "\n",
        "print(a(4))\n",
        "print(a(6))\n",
        "print(a(2))"
      ],
      "execution_count": 27,
      "outputs": [
        {
          "output_type": "stream",
          "text": [
            "64\n",
            "216\n",
            "8\n"
          ],
          "name": "stdout"
        }
      ]
    },
    {
      "cell_type": "code",
      "metadata": {
        "colab": {
          "base_uri": "https://localhost:8080/"
        },
        "id": "owTypNGIRKZp",
        "outputId": "dce078d2-c459-41b5-bd93-d31e54e60b46"
      },
      "source": [
        "ret=lambda a,b:  a*b\n",
        "\n",
        "print(ret(4,5))\n",
        "print(ret(34,9))\n",
        "print(ret(50,20))"
      ],
      "execution_count": 30,
      "outputs": [
        {
          "output_type": "stream",
          "text": [
            "20\n",
            "306\n",
            "1000\n"
          ],
          "name": "stdout"
        }
      ]
    },
    {
      "cell_type": "code",
      "metadata": {
        "colab": {
          "base_uri": "https://localhost:8080/"
        },
        "id": "i5gZYbf5RYn5",
        "outputId": "b28c42fc-95c5-4087-a72b-5d38f953d4c2"
      },
      "source": [
        "add=lambda a,b,c: a+b+c\n",
        "\n",
        "print(add(11,20,46))"
      ],
      "execution_count": 31,
      "outputs": [
        {
          "output_type": "stream",
          "text": [
            "77\n"
          ],
          "name": "stdout"
        }
      ]
    },
    {
      "cell_type": "code",
      "metadata": {
        "colab": {
          "base_uri": "https://localhost:8080/"
        },
        "id": "z9Mv7Y99Rq7Y",
        "outputId": "af8f2c7b-15f4-4989-88fa-c1860cf043be"
      },
      "source": [
        "arr=[22,34,50,9,17,65]\n",
        "arr.sort()\n",
        "print(arr)\n",
        "\n",
        "arr[2]=98\n",
        "print(arr)"
      ],
      "execution_count": 34,
      "outputs": [
        {
          "output_type": "stream",
          "text": [
            "[9, 17, 22, 34, 50, 65]\n",
            "[9, 17, 98, 34, 50, 65]\n"
          ],
          "name": "stdout"
        }
      ]
    },
    {
      "cell_type": "code",
      "metadata": {
        "colab": {
          "base_uri": "https://localhost:8080/"
        },
        "id": "y5Cx11zQRz46",
        "outputId": "fe6ac83e-6c87-4f19-ccdc-6aa2bbd6b8a4"
      },
      "source": [
        "arr=[10,20,32,7,6,5,34,89,92]\n",
        "length=len(arr)\n",
        "print(\"Length=\",length)"
      ],
      "execution_count": 35,
      "outputs": [
        {
          "output_type": "stream",
          "text": [
            "Length= 9\n"
          ],
          "name": "stdout"
        }
      ]
    },
    {
      "cell_type": "code",
      "metadata": {
        "colab": {
          "base_uri": "https://localhost:8080/"
        },
        "id": "cbtML-wNRE0T",
        "outputId": "497a6e37-a749-4455-ec69-82b00846298d"
      },
      "source": [
        "arr=[1,2,3,4,5,6]\n",
        "print(arr)\n",
        "arr.append(7)\n",
        "arr.append(8)\n",
        "print(arr)"
      ],
      "execution_count": 36,
      "outputs": [
        {
          "output_type": "stream",
          "text": [
            "[1, 2, 3, 4, 5, 6]\n",
            "[1, 2, 3, 4, 5, 6, 7, 8]\n"
          ],
          "name": "stdout"
        }
      ]
    },
    {
      "cell_type": "code",
      "metadata": {
        "colab": {
          "base_uri": "https://localhost:8080/"
        },
        "id": "KWABy3AwSUOk",
        "outputId": "68dc2353-2b26-43f4-e8c9-d1645a5c5575"
      },
      "source": [
        "class myclass:\n",
        "  x=50\n",
        "\n",
        "obj=myclass()\n",
        "print(obj.x)"
      ],
      "execution_count": 37,
      "outputs": [
        {
          "output_type": "stream",
          "text": [
            "50\n"
          ],
          "name": "stdout"
        }
      ]
    },
    {
      "cell_type": "code",
      "metadata": {
        "colab": {
          "base_uri": "https://localhost:8080/"
        },
        "id": "Q6veEBvrT947",
        "outputId": "2ed6570c-64a0-4333-a5ce-4b7d858d9203"
      },
      "source": [
        "class person:\n",
        "  name=\"shreya\"\n",
        "\n",
        "p=person()\n",
        "print(\"My name is \"+p.name)\n",
        "\n",
        "p.name=\"anurag\"\n",
        "print(\"My name is \"+p.name)\n",
        "\n",
        "del p.name"
      ],
      "execution_count": 39,
      "outputs": [
        {
          "output_type": "stream",
          "text": [
            "My name is shreya\n",
            "My name is anurag\n"
          ],
          "name": "stdout"
        }
      ]
    },
    {
      "cell_type": "code",
      "metadata": {
        "id": "J39UKNXcUcwF"
      },
      "source": [
        "class shapes:\n",
        "  pass"
      ],
      "execution_count": 40,
      "outputs": []
    },
    {
      "cell_type": "code",
      "metadata": {
        "colab": {
          "base_uri": "https://localhost:8080/",
          "height": 129
        },
        "id": "VBAxHuivUgzM",
        "outputId": "76c54be9-e26a-4770-908e-e916b196c854"
      },
      "source": [
        "#this gives error, so to define just a class without any content we should add \"pass\"\n",
        "class shapes:\n"
      ],
      "execution_count": 42,
      "outputs": [
        {
          "output_type": "error",
          "ename": "SyntaxError",
          "evalue": "ignored",
          "traceback": [
            "\u001b[0;36m  File \u001b[0;32m\"<ipython-input-42-79e8a317bd56>\"\u001b[0;36m, line \u001b[0;32m2\u001b[0m\n\u001b[0;31m    class shapes:\u001b[0m\n\u001b[0m                 ^\u001b[0m\n\u001b[0;31mSyntaxError\u001b[0m\u001b[0;31m:\u001b[0m unexpected EOF while parsing\n"
          ]
        }
      ]
    },
    {
      "cell_type": "code",
      "metadata": {
        "colab": {
          "base_uri": "https://localhost:8080/"
        },
        "id": "iL21mLv7UjQ0",
        "outputId": "b1fbf5e6-8805-424a-ad21-37d8ee58cfdb"
      },
      "source": [
        "arr=[1,2,3,4,5]\n",
        "print(type(arr))"
      ],
      "execution_count": 43,
      "outputs": [
        {
          "output_type": "stream",
          "text": [
            "<class 'list'>\n"
          ],
          "name": "stdout"
        }
      ]
    },
    {
      "cell_type": "code",
      "metadata": {
        "id": "uSY9MVeuU8uc"
      },
      "source": [
        ""
      ],
      "execution_count": null,
      "outputs": []
    }
  ]
}